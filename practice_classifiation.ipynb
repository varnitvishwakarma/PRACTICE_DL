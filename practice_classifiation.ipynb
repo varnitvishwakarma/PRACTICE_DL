{
  "nbformat": 4,
  "nbformat_minor": 0,
  "metadata": {
    "colab": {
      "provenance": []
    },
    "kernelspec": {
      "name": "python3",
      "display_name": "Python 3"
    },
    "language_info": {
      "name": "python"
    }
  },
  "cells": [
    {
      "cell_type": "code",
      "execution_count": 2,
      "metadata": {
        "id": "WtjlaznNIvgz"
      },
      "outputs": [],
      "source": [
        "import tensorflow as tf\n",
        "import matplotlib.pyplot as plt\n",
        "import numpy as np\n",
        "import pandas as pd\n",
        "import seaborn as sns\n",
        "import os"
      ]
    },
    {
      "cell_type": "code",
      "source": [
        "from tensorflow.keras.datasets import cifar10\n"
      ],
      "metadata": {
        "id": "oFAUIcAC_yM2"
      },
      "execution_count": 5,
      "outputs": []
    },
    {
      "cell_type": "code",
      "source": [
        "cifardata=cifar10"
      ],
      "metadata": {
        "id": "J3DUIWJhAF6e"
      },
      "execution_count": 7,
      "outputs": []
    },
    {
      "cell_type": "code",
      "source": [
        "(X_train_full, y_train_full), (X_test, y_test) = cifardata.load_data()"
      ],
      "metadata": {
        "colab": {
          "base_uri": "https://localhost:8080/"
        },
        "id": "d7FpNDlhAiUq",
        "outputId": "2defd8c0-8402-4784-dad6-e612e17f6b2b"
      },
      "execution_count": 8,
      "outputs": [
        {
          "output_type": "stream",
          "name": "stdout",
          "text": [
            "Downloading data from https://www.cs.toronto.edu/~kriz/cifar-10-python.tar.gz\n",
            "170498071/170498071 [==============================] - 2s 0us/step\n"
          ]
        }
      ]
    },
    {
      "cell_type": "code",
      "source": [
        "print(f\"data type of X_train_full: {X_train_full.dtype},\\n shape of X_train_full: {X_train_full.shape}\")"
      ],
      "metadata": {
        "colab": {
          "base_uri": "https://localhost:8080/"
        },
        "id": "pQXUBwiuAshO",
        "outputId": "f876eb5b-147f-49ad-9d9e-235c39359aa4"
      },
      "execution_count": 9,
      "outputs": [
        {
          "output_type": "stream",
          "name": "stdout",
          "text": [
            "data type of X_train_full: uint8,\n",
            " shape of X_train_full: (50000, 32, 32, 3)\n"
          ]
        }
      ]
    },
    {
      "cell_type": "code",
      "source": [
        "X_test.shape"
      ],
      "metadata": {
        "colab": {
          "base_uri": "https://localhost:8080/"
        },
        "id": "SbvRmndbAxk1",
        "outputId": "efb4077f-b25e-4754-e150-93570dc4e056"
      },
      "execution_count": 10,
      "outputs": [
        {
          "output_type": "execute_result",
          "data": {
            "text/plain": [
              "(10000, 32, 32, 3)"
            ]
          },
          "metadata": {},
          "execution_count": 10
        }
      ]
    },
    {
      "cell_type": "code",
      "source": [
        "# create a validation data set from the full training data\n",
        "# Scale the data between 0 to 1 by dividing it by 255. as its an unsigned data between 0-255 range\n",
        "X_valid, X_train = X_train_full[:5000] / 255., X_train_full[5000:] / 255.\n",
        "y_valid, y_train = y_train_full[:5000], y_train_full[5000:]\n",
        "\n",
        "# scale the test set as well\n",
        "X_test = X_test / 255."
      ],
      "metadata": {
        "id": "cH6nUCbWA1Fs"
      },
      "execution_count": 11,
      "outputs": []
    },
    {
      "cell_type": "code",
      "source": [
        "# Lets view some data\n",
        "plt.imshow(X_train[0], cmap=\"binary\")\n",
        "plt.show()"
      ],
      "metadata": {
        "colab": {
          "base_uri": "https://localhost:8080/",
          "height": 430
        },
        "id": "zOihLy0MA6HF",
        "outputId": "7452f698-3320-40b8-8b83-0d3512d8104e"
      },
      "execution_count": 12,
      "outputs": [
        {
          "output_type": "display_data",
          "data": {
            "text/plain": [
              "<Figure size 640x480 with 1 Axes>"
            ],
            "image/png": "[encoded data removed]"
          },
          "metadata": {}
        }
      ]
    },
    {
      "cell_type": "code",
      "source": [
        "# Creating layers of ANN\n",
        "LAYERS = [tf.keras.layers.Flatten(input_shape=[32,32,3], name=\"inputLayer\"),\n",
        "          tf.keras.layers.Dense(300, activation=\"relu\", name=\"hiddenLayer1\"),\n",
        "          tf.keras.layers.Dense(100, activation=\"relu\", name=\"hiddenLayer2\"),\n",
        "          tf.keras.layers.Dense(10, activation=\"softmax\", name=\"outputLayer\")]\n",
        "\n",
        "model_clf = tf.keras.models.Sequential(LAYERS)"
      ],
      "metadata": {
        "id": "OLFkHNCHA-nW"
      },
      "execution_count": 21,
      "outputs": []
    },
    {
      "cell_type": "code",
      "source": [
        "model_clf.layers"
      ],
      "metadata": {
        "colab": {
          "base_uri": "https://localhost:8080/"
        },
        "id": "oKbbv1t5BFvt",
        "outputId": "93e22244-d472-4177-f52c-a33d8d6148b2"
      },
      "execution_count": 22,
      "outputs": [
        {
          "output_type": "execute_result",
          "data": {
            "text/plain": [
              "[<keras.src.layers.reshaping.flatten.Flatten at 0x7d5cdef83ee0>,\n",
              " <keras.src.layers.core.dense.Dense at 0x7d5cdce653c0>,\n",
              " <keras.src.layers.core.dense.Dense at 0x7d5cdce66620>,\n",
              " <keras.src.layers.core.dense.Dense at 0x7d5cdce67910>]"
            ]
          },
          "metadata": {},
          "execution_count": 22
        }
      ]
    },
    {
      "cell_type": "code",
      "source": [
        "LOSS_FUNCTION = \"sparse_categorical_crossentropy\" # use => tf.losses.sparse_categorical_crossentropy\n",
        "OPTIMIZER = \"SGD\" # or use with custom learning rate=> tf.keras.optimizers.SGD(0.02)\n",
        "METRICS = [\"accuracy\"]\n",
        "\n",
        "model_clf.compile(loss=LOSS_FUNCTION,\n",
        "              optimizer=OPTIMIZER,\n",
        "              metrics=METRICS)\n"
      ],
      "metadata": {
        "id": "dTgudEm4Bx0c"
      },
      "execution_count": 23,
      "outputs": []
    },
    {
      "cell_type": "code",
      "source": [
        "# training\n",
        "\n",
        "EPOCHS = 30\n",
        "VALIDATION_SET = (X_valid, y_valid)\n",
        "\n",
        "history = model_clf.fit(X_train, y_train, epochs=EPOCHS,\n",
        "                    validation_data=VALIDATION_SET, batch_size=32)\n"
      ],
      "metadata": {
        "colab": {
          "base_uri": "https://localhost:8080/"
        },
        "id": "oUjimq22CBn3",
        "outputId": "2da35469-f760-436f-84e1-307b4b98bff1"
      },
      "execution_count": 24,
      "outputs": [
        {
          "output_type": "stream",
          "name": "stdout",
          "text": [
            "Epoch 1/30\n",
            "1407/1407 [==============================] - 12s 8ms/step - loss: 1.8954 - accuracy: 0.3201 - val_loss: 1.8255 - val_accuracy: 0.3402\n",
            "Epoch 2/30\n",
            "1407/1407 [==============================] - 10s 7ms/step - loss: 1.7123 - accuracy: 0.3934 - val_loss: 1.6768 - val_accuracy: 0.3964\n",
            "Epoch 3/30\n",
            "1407/1407 [==============================] - 11s 8ms/step - loss: 1.6298 - accuracy: 0.4212 - val_loss: 1.6960 - val_accuracy: 0.3894\n",
            "Epoch 4/30\n",
            "1407/1407 [==============================] - 10s 7ms/step - loss: 1.5750 - accuracy: 0.4427 - val_loss: 1.6509 - val_accuracy: 0.4044\n",
            "Epoch 5/30\n",
            "1407/1407 [==============================] - 10s 7ms/step - loss: 1.5290 - accuracy: 0.4598 - val_loss: 1.5988 - val_accuracy: 0.4278\n",
            "Epoch 6/30\n",
            "1407/1407 [==============================] - 9s 7ms/step - loss: 1.4938 - accuracy: 0.4718 - val_loss: 1.5588 - val_accuracy: 0.4448\n",
            "Epoch 7/30\n",
            "1407/1407 [==============================] - 10s 7ms/step - loss: 1.4572 - accuracy: 0.4852 - val_loss: 1.5544 - val_accuracy: 0.4398\n",
            "Epoch 8/30\n",
            "1407/1407 [==============================] - 10s 7ms/step - loss: 1.4310 - accuracy: 0.4934 - val_loss: 1.5407 - val_accuracy: 0.4552\n",
            "Epoch 9/30\n",
            "1407/1407 [==============================] - 10s 7ms/step - loss: 1.4046 - accuracy: 0.5041 - val_loss: 1.5688 - val_accuracy: 0.4596\n",
            "Epoch 10/30\n",
            "1407/1407 [==============================] - 10s 7ms/step - loss: 1.3801 - accuracy: 0.5077 - val_loss: 1.5018 - val_accuracy: 0.4664\n",
            "Epoch 11/30\n",
            "1407/1407 [==============================] - 9s 7ms/step - loss: 1.3561 - accuracy: 0.5191 - val_loss: 1.4842 - val_accuracy: 0.4702\n",
            "Epoch 12/30\n",
            "1407/1407 [==============================] - 10s 7ms/step - loss: 1.3355 - accuracy: 0.5268 - val_loss: 1.4665 - val_accuracy: 0.4838\n",
            "Epoch 13/30\n",
            "1407/1407 [==============================] - 11s 7ms/step - loss: 1.3162 - accuracy: 0.5347 - val_loss: 1.5213 - val_accuracy: 0.4696\n",
            "Epoch 14/30\n",
            "1407/1407 [==============================] - 11s 8ms/step - loss: 1.2969 - accuracy: 0.5415 - val_loss: 1.4289 - val_accuracy: 0.4884\n",
            "Epoch 15/30\n",
            "1407/1407 [==============================] - 10s 7ms/step - loss: 1.2783 - accuracy: 0.5486 - val_loss: 1.4214 - val_accuracy: 0.4962\n",
            "Epoch 16/30\n",
            "1407/1407 [==============================] - 10s 7ms/step - loss: 1.2608 - accuracy: 0.5533 - val_loss: 1.4812 - val_accuracy: 0.4702\n",
            "Epoch 17/30\n",
            "1407/1407 [==============================] - 9s 7ms/step - loss: 1.2421 - accuracy: 0.5603 - val_loss: 1.4731 - val_accuracy: 0.4812\n",
            "Epoch 18/30\n",
            "1407/1407 [==============================] - 10s 7ms/step - loss: 1.2280 - accuracy: 0.5662 - val_loss: 1.5889 - val_accuracy: 0.4504\n",
            "Epoch 19/30\n",
            "1407/1407 [==============================] - 10s 7ms/step - loss: 1.2110 - accuracy: 0.5755 - val_loss: 1.4456 - val_accuracy: 0.4980\n",
            "Epoch 20/30\n",
            "1407/1407 [==============================] - 10s 7ms/step - loss: 1.1958 - accuracy: 0.5768 - val_loss: 1.4686 - val_accuracy: 0.4934\n",
            "Epoch 21/30\n",
            "1407/1407 [==============================] - 10s 7ms/step - loss: 1.1772 - accuracy: 0.5859 - val_loss: 1.4088 - val_accuracy: 0.5116\n",
            "Epoch 22/30\n",
            "1407/1407 [==============================] - 10s 7ms/step - loss: 1.1614 - accuracy: 0.5916 - val_loss: 1.5024 - val_accuracy: 0.4824\n",
            "Epoch 23/30\n",
            "1407/1407 [==============================] - 9s 7ms/step - loss: 1.1516 - accuracy: 0.5945 - val_loss: 1.3834 - val_accuracy: 0.5176\n",
            "Epoch 24/30\n",
            "1407/1407 [==============================] - 10s 7ms/step - loss: 1.1363 - accuracy: 0.5994 - val_loss: 1.5008 - val_accuracy: 0.4832\n",
            "Epoch 25/30\n",
            "1407/1407 [==============================] - 10s 7ms/step - loss: 1.1251 - accuracy: 0.6024 - val_loss: 1.4815 - val_accuracy: 0.4824\n",
            "Epoch 26/30\n",
            "1407/1407 [==============================] - 12s 8ms/step - loss: 1.1078 - accuracy: 0.6088 - val_loss: 1.6015 - val_accuracy: 0.4586\n",
            "Epoch 27/30\n",
            "1407/1407 [==============================] - 11s 7ms/step - loss: 1.0956 - accuracy: 0.6128 - val_loss: 1.6251 - val_accuracy: 0.4504\n",
            "Epoch 28/30\n",
            "1407/1407 [==============================] - 10s 7ms/step - loss: 1.0810 - accuracy: 0.6166 - val_loss: 1.4931 - val_accuracy: 0.4934\n",
            "Epoch 29/30\n",
            "1407/1407 [==============================] - 9s 6ms/step - loss: 1.0671 - accuracy: 0.6246 - val_loss: 1.5555 - val_accuracy: 0.4760\n",
            "Epoch 30/30\n",
            "1407/1407 [==============================] - 10s 7ms/step - loss: 1.0547 - accuracy: 0.6273 - val_loss: 1.6250 - val_accuracy: 0.4466\n"
          ]
        }
      ]
    },
    {
      "cell_type": "code",
      "source": [
        "model_clf.evaluate(X_test, y_test)"
      ],
      "metadata": {
        "colab": {
          "base_uri": "https://localhost:8080/"
        },
        "id": "-G1IRUz8CEOt",
        "outputId": "f8fb9c3c-f6cc-4cee-ab26-f35d791b514e"
      },
      "execution_count": 25,
      "outputs": [
        {
          "output_type": "stream",
          "name": "stdout",
          "text": [
            "313/313 [==============================] - 1s 3ms/step - loss: 1.5894 - accuracy: 0.4513\n"
          ]
        },
        {
          "output_type": "execute_result",
          "data": {
            "text/plain": [
              "[1.5894092321395874, 0.4512999951839447]"
            ]
          },
          "metadata": {},
          "execution_count": 25
        }
      ]
    },
    {
      "cell_type": "code",
      "source": [
        "x_new = X_test[:3]"
      ],
      "metadata": {
        "id": "y5gD2cRSOjsv"
      },
      "execution_count": 26,
      "outputs": []
    },
    {
      "cell_type": "code",
      "source": [
        "actual = y_test[:3]\n",
        "actual"
      ],
      "metadata": {
        "colab": {
          "base_uri": "https://localhost:8080/"
        },
        "id": "CzhdgSvWOqFz",
        "outputId": "a3c3abdc-76c1-4515-a410-fcf339b7dbaa"
      },
      "execution_count": 27,
      "outputs": [
        {
          "output_type": "execute_result",
          "data": {
            "text/plain": [
              "array([[3],\n",
              "       [8],\n",
              "       [8]], dtype=uint8)"
            ]
          },
          "metadata": {},
          "execution_count": 27
        }
      ]
    },
    {
      "cell_type": "code",
      "source": [
        "\n",
        "\n",
        "y_prob = model_clf.predict(x_new)\n",
        "y_prob.round(3)"
      ],
      "metadata": {
        "colab": {
          "base_uri": "https://localhost:8080/"
        },
        "id": "_0wSvw4GOsmF",
        "outputId": "7639aa4b-f916-45ae-db74-b7efa6b58627"
      },
      "execution_count": 28,
      "outputs": [
        {
          "output_type": "stream",
          "name": "stdout",
          "text": [
            "1/1 [==============================] - 0s 209ms/step\n"
          ]
        },
        {
          "output_type": "execute_result",
          "data": {
            "text/plain": [
              "array([[0.02 , 0.012, 0.025, 0.72 , 0.056, 0.066, 0.001, 0.002, 0.067,\n",
              "        0.031],\n",
              "       [0.004, 0.181, 0.002, 0.001, 0.001, 0.   , 0.   , 0.001, 0.684,\n",
              "        0.127],\n",
              "       [0.02 , 0.06 , 0.001, 0.   , 0.002, 0.   , 0.   , 0.011, 0.844,\n",
              "        0.062]], dtype=float32)"
            ]
          },
          "metadata": {},
          "execution_count": 28
        }
      ]
    },
    {
      "cell_type": "code",
      "source": [
        "y_prob"
      ],
      "metadata": {
        "colab": {
          "base_uri": "https://localhost:8080/"
        },
        "id": "RB3yl-K2OwOy",
        "outputId": "a4de0b6f-132f-418d-f69d-1906fae1f3c6"
      },
      "execution_count": 29,
      "outputs": [
        {
          "output_type": "execute_result",
          "data": {
            "text/plain": [
              "array([[2.0305347e-02, 1.1625639e-02, 2.5106328e-02, 7.1953410e-01,\n",
              "        5.5529892e-02, 6.6153683e-02, 1.2358074e-03, 1.8439483e-03,\n",
              "        6.7394115e-02, 3.1271134e-02],\n",
              "       [3.8727222e-03, 1.8129504e-01, 1.7783790e-03, 5.3567305e-04,\n",
              "        6.2501227e-04, 2.5131920e-04, 6.9257410e-05, 8.3617534e-04,\n",
              "        6.8413734e-01, 1.2659912e-01],\n",
              "       [2.0128421e-02, 5.9664268e-02, 8.5781154e-04, 1.7368438e-04,\n",
              "        1.5955147e-03, 2.9892317e-04, 7.7567638e-05, 1.0808165e-02,\n",
              "        8.4434009e-01, 6.2055580e-02]], dtype=float32)"
            ]
          },
          "metadata": {},
          "execution_count": 29
        }
      ]
    },
    {
      "cell_type": "code",
      "source": [
        "y_pred = np.argmax(y_prob, axis = -1)"
      ],
      "metadata": {
        "id": "NOBMvQxeOx6N"
      },
      "execution_count": 30,
      "outputs": []
    },
    {
      "cell_type": "code",
      "source": [
        "y_pred"
      ],
      "metadata": {
        "colab": {
          "base_uri": "https://localhost:8080/"
        },
        "id": "4dEEzHxzOz2F",
        "outputId": "3de2727c-748d-42f8-aa4c-c86e04c7fd9a"
      },
      "execution_count": 31,
      "outputs": [
        {
          "output_type": "execute_result",
          "data": {
            "text/plain": [
              "array([3, 8, 8])"
            ]
          },
          "metadata": {},
          "execution_count": 31
        }
      ]
    },
    {
      "cell_type": "code",
      "source": [
        "actual"
      ],
      "metadata": {
        "colab": {
          "base_uri": "https://localhost:8080/"
        },
        "id": "r8GoSRZiO1h0",
        "outputId": "f30088ff-b062-4dfa-81d6-5bb9c610578b"
      },
      "execution_count": 32,
      "outputs": [
        {
          "output_type": "execute_result",
          "data": {
            "text/plain": [
              "array([[3],\n",
              "       [8],\n",
              "       [8]], dtype=uint8)"
            ]
          },
          "metadata": {},
          "execution_count": 32
        }
      ]
    },
    {
      "cell_type": "code",
      "source": [
        "# plot\n",
        "for data, pred, actual_data in zip(x_new, y_pred, actual):\n",
        "  plt.imshow(data, cmap=\"binary\")\n",
        "  plt.title(f\"Predicted {pred} and Actual {actual_data}\")\n",
        "  plt.axis(\"off\")\n",
        "  plt.show()\n",
        "  print(\"######################\")"
      ],
      "metadata": {
        "colab": {
          "base_uri": "https://localhost:8080/",
          "height": 1000
        },
        "id": "tV1DC7awO3dS",
        "outputId": "24684b75-4a6c-45f2-a732-eb8afc09e5e3"
      },
      "execution_count": 33,
      "outputs": [
        {
          "output_type": "display_data",
          "data": {
            "text/plain": [
              "<Figure size 640x480 with 1 Axes>"
            ],
            "image/png": "[encoded data removed]"
          },
          "metadata": {}
        },
        {
          "output_type": "stream",
          "name": "stdout",
          "text": [
            "######################\n"
          ]
        },
        {
          "output_type": "display_data",
          "data": {
            "text/plain": [
              "<Figure size 640x480 with 1 Axes>"
            ],
            "image/png": "[encoded data removed]"
          },
          "metadata": {}
        },
        {
          "output_type": "stream",
          "name": "stdout",
          "text": [
            "######################\n"
          ]
        },
        {
          "output_type": "display_data",
          "data": {
            "text/plain": [
              "<Figure size 640x480 with 1 Axes>"
            ],
            "image/png": "[encoded data removed]"
          },
          "metadata": {}
        },
        {
          "output_type": "stream",
          "name": "stdout",
          "text": [
            "######################\n"
          ]
        }
      ]
    },
    {
      "cell_type": "code",
      "source": [],
      "metadata": {
        "id": "nS3Zwqw4O6DD"
      },
      "execution_count": null,
      "outputs": []
    }
  ]
}